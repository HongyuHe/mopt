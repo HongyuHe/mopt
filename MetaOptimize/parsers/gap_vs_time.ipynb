{
 "cells": [
  {
   "cell_type": "code",
   "execution_count": null,
   "metadata": {},
   "outputs": [],
   "source": [
    "import pip\n",
    "pip.main([\"install\",\"matplotlib\"])\n",
    "pip.main([\"install\",\"numpy\"])"
   ]
  },
  {
   "cell_type": "code",
   "execution_count": 5,
   "metadata": {},
   "outputs": [],
   "source": [
    "import matplotlib.pyplot as plt\n",
    "import numpy as np\n",
    "import pprint\n",
    "import os, sys\n",
    "import seaborn as sns\n",
    "import pandas as pd"
   ]
  },
  {
   "cell_type": "code",
   "execution_count": 6,
   "metadata": {},
   "outputs": [],
   "source": [
    "approach_to_fpath_dict = {\n",
    "                          # \"KKT\": [\"..\\\\logs\\\\gap_vs_time\\\\Pop_2_2022_6_12_19_44_2_510\\\\kkt_Pop.txt\"],\n",
    "                          \"Single Shot (KKT)\": {\n",
    "                              0: [\"..\\\\logs\\\\gap_vs_time\\\\Pop_2_2022_6_16_10_48_1_199\\\\kkt_Pop_2022_6_16_10_48_2_622.txt\"],\n",
    "                          },\n",
    "                          #   \"Simulated Annealing\": [\"c:\\\\tmp\\\\logs\\\\Pop_2_2022_6_13_3_51_20_106\\\\simulatedannealing_Pop.txt\",\n",
    "                          #                           \"c:\\\\tmp\\\\logs\\\\Pop_2_2022_6_13_8_58_38_604\\\\simulatedannealing_Pop.txt\"],\n",
    "                          # \"Simulated Annealing1\": [\"..\\\\logs\\\\gap_vs_time\\\\Pop_2_2022_6_13_11_8_49_993\\\\simulatedannealing_Pop.txt\"],\n",
    "                        #   \"Simulated Annealing\": [\"..\\\\logs\\\\gap_vs_time\\\\Pop_2_2022_6_16_9_20_12_70\\\\simulatedannealing_Pop_0_2022_6_16_9_53_33_828.txt\"],\n",
    "                          \"Simulated Annealing\": {\n",
    "                                    0: [\"..\\\\logs\\\\gap_vs_time\\\\Pop_2_2022_6_16_9_20_12_70\\\\simulatedannealing_Pop_0_2022_6_16_9_53_33_828.txt\"],\n",
    "                                    1: [\"..\\logs\\\\gap_vs_time\\\\Pop_2_2022_6_16_12_12_26_613\\\\simulatedannealing_Pop_1_2022_6_16_12_29_7_130.txt\"],\n",
    "                                    2: [\"..\\\\logs\\\\gap_vs_time\\\\Pop_2_2022_6_16_13_37_3_831\\\\simulatedannealing_Pop_2_2022_6_16_13_53_44_381.txt\"],\n",
    "                                    3: [\"..\\\\logs\\\\gap_vs_time\\\\Pop_2_2022_6_16_14_43_6_105\\\\simulatedannealing_Pop_3_2022_6_16_14_59_46_598.txt\"]\n",
    "                            },\n",
    "                          # \"Hill Climber\": [\"..\\\\logs\\\\gap_vs_time\\\\Pop_2_2022_6_12_22_46_42_289\\\\hillclimbing_Pop.txt\"],\n",
    "                        #   \"Hill Climber\": [\"..\\\\logs\\\\gap_vs_time\\\\Pop_2_2022_6_16_9_20_12_70\\\\hillclimbing_Pop_0_2022_6_16_9_36_52_954.txt\"],\n",
    "                         \"Hill Climber\": {\n",
    "                                    0: [\"..\\\\logs\\\\gap_vs_time\\\\Pop_2_2022_6_16_9_20_12_70\\\\hillclimbing_Pop_0_2022_6_16_9_36_52_954.txt\"],\n",
    "                                    1: [\"..\\logs\\gap_vs_time\\Pop_2_2022_6_16_12_12_26_613\\hillclimbing_Pop_1_2022_6_16_12_12_26_842.txt\"],\n",
    "                                    2: [\"..\\\\logs\\gap_vs_time\\\\Pop_2_2022_6_16_13_37_3_831\\\\hillclimbing_Pop_2_2022_6_16_13_37_4_70.txt\"],\n",
    "                                    3: [\"..\\\\logs\\\\gap_vs_time\\\\Pop_2_2022_6_16_14_43_6_105\\\\hillclimbing_Pop_3_2022_6_16_14_43_6_388.txt\"]\n",
    "                            },\n",
    "                          # \"Random1\": [\"..\\\\logs\\\\gap_vs_time\\\\Pop_2_2022_6_12_19_44_2_510\\\\randomSearch_Pop.txt\"],\n",
    "                        #   \"Random\": [\"..\\\\logs\\\\gap_vs_time\\\\Pop_2_2022_6_16_9_20_12_70\\\\randomSearch_Pop_0_2022_6_16_10_10_14_150.txt\"]\n",
    "                        \"Random\": {\n",
    "                                    0: [\"..\\\\logs\\\\gap_vs_time\\\\Pop_2_2022_6_16_9_20_12_70\\\\randomSearch_Pop_0_2022_6_16_10_10_14_150.txt\"],\n",
    "                                    1: [\"..\\logs\\gap_vs_time\\Pop_2_2022_6_16_12_12_26_613\\\\randomSearch_Pop_1_2022_6_16_12_45_47_431.txt\"],\n",
    "                                    2: [\"..\\\\logs\\gap_vs_time\\\\Pop_2_2022_6_16_13_37_3_831\\\\randomSearch_Pop_2_2022_6_16_14_10_24_650.txt\"],\n",
    "                                    3: [\"..\\\\logs\\\\gap_vs_time\\\\Pop_2_2022_6_16_14_43_6_105\\\\randomSearch_Pop_3_2022_6_16_15_16_26_860.txt\"]\n",
    "                                  }\n",
    "                        }\n",
    "approach_to_dur_gap_mapping = dict()\n"
   ]
  },
  {
   "cell_type": "code",
   "execution_count": 7,
   "metadata": {},
   "outputs": [],
   "source": [
    "output_fig_dir = \"..\\\\figs\\\\\"\n",
    "if not os.path.isdir(output_fig_dir):\n",
    "    os.mkdir(output_fig_dir)"
   ]
  },
  {
   "cell_type": "code",
   "execution_count": 13,
   "metadata": {},
   "outputs": [
    {
     "name": "stdout",
     "output_type": "stream",
     "text": [
      "max_gap: 44.73712713755863\n"
     ]
    }
   ],
   "source": [
    "max_gap = 0\n",
    "\n",
    "df_dictionary = {\"approach\": [], \"gap\": [], \"dur\": [], \"seed\": []}\n",
    "norm_factor = 38 * 5000\n",
    "\n",
    "for approach, seed_fpath_list in approach_to_fpath_dict.items():\n",
    "    for seed, fpath_list in seed_fpath_list.items():\n",
    "        gap_list = []\n",
    "        dur_list = []\n",
    "        seen_dur = set()\n",
    "        prev_dur = 0\n",
    "        prev_gap = 0\n",
    "        bias_dur = None\n",
    "        time_step = 0.01\n",
    "        for fpath in fpath_list:\n",
    "            with open(fpath, \"r\") as fp:\n",
    "                for fline in fp.readlines():\n",
    "                    dur_ms, gap = fline.split(\",\")\n",
    "                    gap = np.maximum(0, float(gap)) * 100/ norm_factor\n",
    "                    abs_dur = int(dur_ms) / 1000\n",
    "                    if bias_dur is None:\n",
    "                        bias_dur = abs_dur\n",
    "                    dur = int((abs_dur - bias_dur) / time_step) * time_step\n",
    "                    gap_list.append(gap)\n",
    "                    dur_list.append(dur)\n",
    "                    max_gap = np.maximum(max_gap, gap)\n",
    "                    while dur > prev_dur + time_step:\n",
    "                        prev_dur += time_step\n",
    "                        df_dictionary[\"approach\"].append(approach)\n",
    "                        df_dictionary[\"gap\"].append(prev_gap)\n",
    "                        df_dictionary[\"dur\"].append(prev_dur)\n",
    "                        df_dictionary[\"seed\"].append(seed)\n",
    "                    prev_dur = dur\n",
    "                    prev_gap = gap\n",
    "                    if (dur in seen_dur):\n",
    "                        df_dictionary[\"gap\"][-1] = gap\n",
    "                        df_dictionary[\"dur\"][-1] = dur\n",
    "                    else:\n",
    "                        df_dictionary[\"approach\"].append(approach)\n",
    "                        df_dictionary[\"gap\"].append(gap)\n",
    "                        df_dictionary[\"dur\"].append(dur)\n",
    "                        df_dictionary[\"seed\"].append(seed)\n",
    "                        seen_dur.add(dur)\n",
    "                    if prev_dur > 10:\n",
    "                        time_step = 0.1\n",
    "        gap_list = np.array(gap_list)\n",
    "        dur_list = np.array(dur_list)\n",
    "        sort_idx = np.argsort(dur_list)\n",
    "        approach_to_dur_gap_mapping[approach] = [dur_list[sort_idx], gap_list[sort_idx]]\n",
    "print(\"max_gap:\", max_gap)\n",
    "# print(approach_to_dur_gap_mapping)"
   ]
  },
  {
   "cell_type": "code",
   "execution_count": 14,
   "metadata": {},
   "outputs": [
    {
     "data": {
      "text/html": [
       "<div>\n",
       "<style scoped>\n",
       "    .dataframe tbody tr th:only-of-type {\n",
       "        vertical-align: middle;\n",
       "    }\n",
       "\n",
       "    .dataframe tbody tr th {\n",
       "        vertical-align: top;\n",
       "    }\n",
       "\n",
       "    .dataframe thead th {\n",
       "        text-align: right;\n",
       "    }\n",
       "</style>\n",
       "<table border=\"1\" class=\"dataframe\">\n",
       "  <thead>\n",
       "    <tr style=\"text-align: right;\">\n",
       "      <th></th>\n",
       "      <th>approach</th>\n",
       "      <th>gap</th>\n",
       "      <th>dur</th>\n",
       "      <th>seed</th>\n",
       "    </tr>\n",
       "  </thead>\n",
       "  <tbody>\n",
       "    <tr>\n",
       "      <th>0</th>\n",
       "      <td>Single Shot (KKT)</td>\n",
       "      <td>0.00000</td>\n",
       "      <td>0.00</td>\n",
       "      <td>0</td>\n",
       "    </tr>\n",
       "    <tr>\n",
       "      <th>1</th>\n",
       "      <td>Single Shot (KKT)</td>\n",
       "      <td>34.21053</td>\n",
       "      <td>0.01</td>\n",
       "      <td>0</td>\n",
       "    </tr>\n",
       "    <tr>\n",
       "      <th>2</th>\n",
       "      <td>Single Shot (KKT)</td>\n",
       "      <td>34.21053</td>\n",
       "      <td>0.02</td>\n",
       "      <td>0</td>\n",
       "    </tr>\n",
       "    <tr>\n",
       "      <th>3</th>\n",
       "      <td>Single Shot (KKT)</td>\n",
       "      <td>34.21053</td>\n",
       "      <td>0.03</td>\n",
       "      <td>0</td>\n",
       "    </tr>\n",
       "    <tr>\n",
       "      <th>4</th>\n",
       "      <td>Single Shot (KKT)</td>\n",
       "      <td>44.73684</td>\n",
       "      <td>0.04</td>\n",
       "      <td>0</td>\n",
       "    </tr>\n",
       "    <tr>\n",
       "      <th>...</th>\n",
       "      <td>...</td>\n",
       "      <td>...</td>\n",
       "      <td>...</td>\n",
       "      <td>...</td>\n",
       "    </tr>\n",
       "    <tr>\n",
       "      <th>150481</th>\n",
       "      <td>Random</td>\n",
       "      <td>30.14861</td>\n",
       "      <td>999.50</td>\n",
       "      <td>3</td>\n",
       "    </tr>\n",
       "    <tr>\n",
       "      <th>150482</th>\n",
       "      <td>Random</td>\n",
       "      <td>30.14861</td>\n",
       "      <td>999.60</td>\n",
       "      <td>3</td>\n",
       "    </tr>\n",
       "    <tr>\n",
       "      <th>150483</th>\n",
       "      <td>Random</td>\n",
       "      <td>30.14861</td>\n",
       "      <td>999.70</td>\n",
       "      <td>3</td>\n",
       "    </tr>\n",
       "    <tr>\n",
       "      <th>150484</th>\n",
       "      <td>Random</td>\n",
       "      <td>30.14861</td>\n",
       "      <td>999.80</td>\n",
       "      <td>3</td>\n",
       "    </tr>\n",
       "    <tr>\n",
       "      <th>150485</th>\n",
       "      <td>Random</td>\n",
       "      <td>30.14861</td>\n",
       "      <td>999.90</td>\n",
       "      <td>3</td>\n",
       "    </tr>\n",
       "  </tbody>\n",
       "</table>\n",
       "<p>150486 rows × 4 columns</p>\n",
       "</div>"
      ],
      "text/plain": [
       "                 approach       gap     dur  seed\n",
       "0       Single Shot (KKT)   0.00000    0.00     0\n",
       "1       Single Shot (KKT)  34.21053    0.01     0\n",
       "2       Single Shot (KKT)  34.21053    0.02     0\n",
       "3       Single Shot (KKT)  34.21053    0.03     0\n",
       "4       Single Shot (KKT)  44.73684    0.04     0\n",
       "...                   ...       ...     ...   ...\n",
       "150481             Random  30.14861  999.50     3\n",
       "150482             Random  30.14861  999.60     3\n",
       "150483             Random  30.14861  999.70     3\n",
       "150484             Random  30.14861  999.80     3\n",
       "150485             Random  30.14861  999.90     3\n",
       "\n",
       "[150486 rows x 4 columns]"
      ]
     },
     "execution_count": 14,
     "metadata": {},
     "output_type": "execute_result"
    }
   ],
   "source": [
    "data_df = pd.DataFrame(df_dictionary)\n",
    "data_df = data_df.round(decimals = 5)\n",
    "data_df"
   ]
  },
  {
   "cell_type": "code",
   "execution_count": 15,
   "metadata": {},
   "outputs": [
    {
     "data": {
      "image/png": "[encoded data removed]",
      "text/html": [
       "<div style=\"vertical-align: middle;\"><strong>Set1</strong> </div><div class=\"cmap\"><img alt=\"Set1 colormap\" title=\"Set1\" style=\"border: 1px solid #555;\" src=\"data:image/png;base64,iVBORw0KGgoAAAANSUhEUgAAAgAAAABACAYAAABsv8+/AAAAE3RFWHRUaXRsZQBTZXQxIGNvbG9ybWFwG6zH/AAAABl0RVh0RGVzY3JpcHRpb24AU2V0MSBjb2xvcm1hcJAeV2QAAAAwdEVYdEF1dGhvcgBNYXRwbG90bGliIHYzLjUuMiwgaHR0cHM6Ly9tYXRwbG90bGliLm9yZ8JaeJwAAAAydEVYdFNvZnR3YXJlAE1hdHBsb3RsaWIgdjMuNS4yLCBodHRwczovL21hdHBsb3RsaWIub3Jn7PznuwAAAXJJREFUeJzt1rFJA2AYAFF1CBHJBlbBMazEQlKkE7JGZrCxCQRs3MnaFax1it8PvPcmuPIuv243Pxf/3NPLaTphuevt63TCcg/n3XTCcoftfjphreP9dMFyH8/f0wnLPd69TScs937zOZ2w3NV0AADw9wwAAAQZAAAIMgAAEGQAACDIAABAkAEAgCADAABBBgAAggwAAAQZAAAIMgAAEGQAACDIAABAkAEAgCADAABBBgAAggwAAAQZAAAIMgAAEGQAACDIAABAkAEAgCADAABBBgAAggwAAAQZAAAIMgAAEGQAACDIAABAkAEAgCADAABBBgAAggwAAAQZAAAIMgAAEGQAACDIAABAkAEAgCADAABBBgAAggwAAAQZAAAIMgAAEGQAACDIAABAkAEAgCADAABBBgAAggwAAAQZAAAIMgAAEGQAACDIAABAkAEAgCADAABBBgAAggwAAAQZAAAIMgAAEGQAACDIAABAkAEAgKBfc6EMSuFnNvgAAAAASUVORK5CYII=\"></div><div style=\"vertical-align: middle; max-width: 514px; display: flex; justify-content: space-between;\"><div style=\"float: left;\"><div title=\"#e41a1cff\" style=\"display: inline-block; width: 1em; height: 1em; margin: 0; vertical-align: middle; border: 1px solid #555; background-color: #e41a1cff;\"></div> under</div><div style=\"margin: 0 auto; display: inline-block;\">bad <div title=\"#00000000\" style=\"display: inline-block; width: 1em; height: 1em; margin: 0; vertical-align: middle; border: 1px solid #555; background-color: #00000000;\"></div></div><div style=\"float: right;\">over <div title=\"#999999ff\" style=\"display: inline-block; width: 1em; height: 1em; margin: 0; vertical-align: middle; border: 1px solid #555; background-color: #999999ff;\"></div></div>"
      ],
      "text/plain": [
       "<matplotlib.colors.ListedColormap at 0x18dad07a560>"
      ]
     },
     "execution_count": 15,
     "metadata": {},
     "output_type": "execute_result"
    }
   ],
   "source": [
    "color_pallette = plt.get_cmap(\"Set1\")\n",
    "color_pallette"
   ]
  },
  {
   "cell_type": "code",
   "execution_count": 16,
   "metadata": {},
   "outputs": [],
   "source": [
    "# colors = [color_pallette(3), color_pallette(0), color_pallette(4), color_pallette(2)]\n",
    "# colors = [color_pallette(1), color_pallette(2), color_pallette(3), color_pallette(4)]\n",
    "# colors = [color_pallette(1), color_pallette(3), color_pallette(2), color_pallette(0)]\n",
    "colors = [color_pallette(1), color_pallette(3), color_pallette(2), color_pallette(4)]\n",
    "line_styles = [\"-\", \"--\", \"--\", \"--\"]"
   ]
  },
  {
   "cell_type": "code",
   "execution_count": 17,
   "metadata": {},
   "outputs": [
    {
     "ename": "KeyboardInterrupt",
     "evalue": "",
     "output_type": "error",
     "traceback": [
      "\u001b[1;31m---------------------------------------------------------------------------\u001b[0m",
      "\u001b[1;31mKeyboardInterrupt\u001b[0m                         Traceback (most recent call last)",
      "\u001b[1;32mc:\\Users\\t-ponamyar\\Desktop\\wanrisk\\MetaOptimize\\parsers\\gap_vs_time.ipynb Cell 9'\u001b[0m in \u001b[0;36m<cell line: 14>\u001b[1;34m()\u001b[0m\n\u001b[0;32m      <a href='vscode-notebook-cell:/c%3A/Users/t-ponamyar/Desktop/wanrisk/MetaOptimize/parsers/gap_vs_time.ipynb#ch0000008?line=2'>3</a>\u001b[0m x_min \u001b[39m=\u001b[39m np\u001b[39m.\u001b[39minf\n\u001b[0;32m      <a href='vscode-notebook-cell:/c%3A/Users/t-ponamyar/Desktop/wanrisk/MetaOptimize/parsers/gap_vs_time.ipynb#ch0000008?line=3'>4</a>\u001b[0m \u001b[39m# for idx, (approach, output) in enumerate(approach_to_dur_gap_mapping.items()):\u001b[39;00m\n\u001b[0;32m      <a href='vscode-notebook-cell:/c%3A/Users/t-ponamyar/Desktop/wanrisk/MetaOptimize/parsers/gap_vs_time.ipynb#ch0000008?line=4'>5</a>\u001b[0m \u001b[39m#     plt.plot(output[0], output[1] * 100/ norm_factor, label=approach, color=colors[idx], linestyle=line_styles[idx], \u001b[39;00m\n\u001b[0;32m      <a href='vscode-notebook-cell:/c%3A/Users/t-ponamyar/Desktop/wanrisk/MetaOptimize/parsers/gap_vs_time.ipynb#ch0000008?line=5'>6</a>\u001b[0m \u001b[39m#             #  marker=\"o\", \u001b[39;00m\n\u001b[1;32m   (...)\u001b[0m\n\u001b[0;32m     <a href='vscode-notebook-cell:/c%3A/Users/t-ponamyar/Desktop/wanrisk/MetaOptimize/parsers/gap_vs_time.ipynb#ch0000008?line=11'>12</a>\u001b[0m \u001b[39m#     )\u001b[39;00m\n\u001b[0;32m     <a href='vscode-notebook-cell:/c%3A/Users/t-ponamyar/Desktop/wanrisk/MetaOptimize/parsers/gap_vs_time.ipynb#ch0000008?line=12'>13</a>\u001b[0m \u001b[39m#     x_min = np.minimum(x_min, np.min(output[0]))\u001b[39;00m\n\u001b[1;32m---> <a href='vscode-notebook-cell:/c%3A/Users/t-ponamyar/Desktop/wanrisk/MetaOptimize/parsers/gap_vs_time.ipynb#ch0000008?line=13'>14</a>\u001b[0m sns\u001b[39m.\u001b[39;49mlineplot(x\u001b[39m=\u001b[39;49m\u001b[39m\"\u001b[39;49m\u001b[39mdur\u001b[39;49m\u001b[39m\"\u001b[39;49m, y\u001b[39m=\u001b[39;49m\u001b[39m\"\u001b[39;49m\u001b[39mgap\u001b[39;49m\u001b[39m\"\u001b[39;49m,\n\u001b[0;32m     <a href='vscode-notebook-cell:/c%3A/Users/t-ponamyar/Desktop/wanrisk/MetaOptimize/parsers/gap_vs_time.ipynb#ch0000008?line=14'>15</a>\u001b[0m              hue\u001b[39m=\u001b[39;49m\u001b[39m\"\u001b[39;49m\u001b[39mapproach\u001b[39;49m\u001b[39m\"\u001b[39;49m, data\u001b[39m=\u001b[39;49mdata_df, palette\u001b[39m=\u001b[39;49mcolors)\n\u001b[0;32m     <a href='vscode-notebook-cell:/c%3A/Users/t-ponamyar/Desktop/wanrisk/MetaOptimize/parsers/gap_vs_time.ipynb#ch0000008?line=15'>16</a>\u001b[0m \u001b[39m# #add arrow to plot\u001b[39;00m\n\u001b[0;32m     <a href='vscode-notebook-cell:/c%3A/Users/t-ponamyar/Desktop/wanrisk/MetaOptimize/parsers/gap_vs_time.ipynb#ch0000008?line=16'>17</a>\u001b[0m \u001b[39m# plt.arrow(x=4, y=0.75, dx=0, dy=0.1, width=0.5, head_length=0.03, fc=\"white\") \u001b[39;00m\n\u001b[0;32m     <a href='vscode-notebook-cell:/c%3A/Users/t-ponamyar/Desktop/wanrisk/MetaOptimize/parsers/gap_vs_time.ipynb#ch0000008?line=17'>18</a>\u001b[0m \n\u001b[0;32m     <a href='vscode-notebook-cell:/c%3A/Users/t-ponamyar/Desktop/wanrisk/MetaOptimize/parsers/gap_vs_time.ipynb#ch0000008?line=18'>19</a>\u001b[0m \u001b[39m#add annotation\u001b[39;00m\n\u001b[0;32m     <a href='vscode-notebook-cell:/c%3A/Users/t-ponamyar/Desktop/wanrisk/MetaOptimize/parsers/gap_vs_time.ipynb#ch0000008?line=19'>20</a>\u001b[0m min_y \u001b[39m=\u001b[39m \u001b[39m10\u001b[39m\n",
      "File \u001b[1;32mc:\\Users\\t-ponamyar\\AppData\\Local\\Programs\\Python\\Python310\\lib\\site-packages\\seaborn\\_decorators.py:46\u001b[0m, in \u001b[0;36m_deprecate_positional_args.<locals>.inner_f\u001b[1;34m(*args, **kwargs)\u001b[0m\n\u001b[0;32m     36\u001b[0m     warnings\u001b[39m.\u001b[39mwarn(\n\u001b[0;32m     37\u001b[0m         \u001b[39m\"\u001b[39m\u001b[39mPass the following variable\u001b[39m\u001b[39m{}\u001b[39;00m\u001b[39m as \u001b[39m\u001b[39m{}\u001b[39;00m\u001b[39mkeyword arg\u001b[39m\u001b[39m{}\u001b[39;00m\u001b[39m: \u001b[39m\u001b[39m{}\u001b[39;00m\u001b[39m. \u001b[39m\u001b[39m\"\u001b[39m\n\u001b[0;32m     38\u001b[0m         \u001b[39m\"\u001b[39m\u001b[39mFrom version 0.12, the only valid positional argument \u001b[39m\u001b[39m\"\u001b[39m\n\u001b[1;32m   (...)\u001b[0m\n\u001b[0;32m     43\u001b[0m         \u001b[39mFutureWarning\u001b[39;00m\n\u001b[0;32m     44\u001b[0m     )\n\u001b[0;32m     45\u001b[0m kwargs\u001b[39m.\u001b[39mupdate({k: arg \u001b[39mfor\u001b[39;00m k, arg \u001b[39min\u001b[39;00m \u001b[39mzip\u001b[39m(sig\u001b[39m.\u001b[39mparameters, args)})\n\u001b[1;32m---> 46\u001b[0m \u001b[39mreturn\u001b[39;00m f(\u001b[39m*\u001b[39m\u001b[39m*\u001b[39mkwargs)\n",
      "File \u001b[1;32mc:\\Users\\t-ponamyar\\AppData\\Local\\Programs\\Python\\Python310\\lib\\site-packages\\seaborn\\relational.py:710\u001b[0m, in \u001b[0;36mlineplot\u001b[1;34m(x, y, hue, size, style, data, palette, hue_order, hue_norm, sizes, size_order, size_norm, dashes, markers, style_order, units, estimator, ci, n_boot, seed, sort, err_style, err_kws, legend, ax, **kwargs)\u001b[0m\n\u001b[0;32m    706\u001b[0m     \u001b[39mreturn\u001b[39;00m ax\n\u001b[0;32m    708\u001b[0m p\u001b[39m.\u001b[39m_attach(ax)\n\u001b[1;32m--> 710\u001b[0m p\u001b[39m.\u001b[39;49mplot(ax, kwargs)\n\u001b[0;32m    711\u001b[0m \u001b[39mreturn\u001b[39;00m ax\n",
      "File \u001b[1;32mc:\\Users\\t-ponamyar\\AppData\\Local\\Programs\\Python\\Python310\\lib\\site-packages\\seaborn\\relational.py:499\u001b[0m, in \u001b[0;36m_LinePlotter.plot\u001b[1;34m(self, ax, kws)\u001b[0m\n\u001b[0;32m    497\u001b[0m         err \u001b[39m=\u001b[39m \u001b[39m\"\u001b[39m\u001b[39mestimator must be None when specifying units\u001b[39m\u001b[39m\"\u001b[39m\n\u001b[0;32m    498\u001b[0m         \u001b[39mraise\u001b[39;00m \u001b[39mValueError\u001b[39;00m(err)\n\u001b[1;32m--> 499\u001b[0m     x, y, y_ci \u001b[39m=\u001b[39m \u001b[39mself\u001b[39;49m\u001b[39m.\u001b[39;49maggregate(y, x, u)\n\u001b[0;32m    500\u001b[0m \u001b[39melse\u001b[39;00m:\n\u001b[0;32m    501\u001b[0m     y_ci \u001b[39m=\u001b[39m \u001b[39mNone\u001b[39;00m\n",
      "File \u001b[1;32mc:\\Users\\t-ponamyar\\AppData\\Local\\Programs\\Python\\Python310\\lib\\site-packages\\seaborn\\relational.py:414\u001b[0m, in \u001b[0;36m_LinePlotter.aggregate\u001b[1;34m(self, vals, grouper, units)\u001b[0m\n\u001b[0;32m    410\u001b[0m     cis \u001b[39m=\u001b[39m pd\u001b[39m.\u001b[39mDataFrame(np\u001b[39m.\u001b[39mc_[est \u001b[39m-\u001b[39m sd, est \u001b[39m+\u001b[39m sd],\n\u001b[0;32m    411\u001b[0m                        index\u001b[39m=\u001b[39mest\u001b[39m.\u001b[39mindex,\n\u001b[0;32m    412\u001b[0m                        columns\u001b[39m=\u001b[39m[\u001b[39m\"\u001b[39m\u001b[39mlow\u001b[39m\u001b[39m\"\u001b[39m, \u001b[39m\"\u001b[39m\u001b[39mhigh\u001b[39m\u001b[39m\"\u001b[39m])\u001b[39m.\u001b[39mstack()\n\u001b[0;32m    413\u001b[0m \u001b[39melse\u001b[39;00m:\n\u001b[1;32m--> 414\u001b[0m     cis \u001b[39m=\u001b[39m grouped\u001b[39m.\u001b[39;49mapply(bootstrapped_cis)\n\u001b[0;32m    416\u001b[0m \u001b[39m# Unpack the CIs into \"wide\" format for plotting\u001b[39;00m\n\u001b[0;32m    417\u001b[0m \u001b[39mif\u001b[39;00m cis\u001b[39m.\u001b[39mnotnull()\u001b[39m.\u001b[39many():\n",
      "File \u001b[1;32mc:\\Users\\t-ponamyar\\AppData\\Local\\Programs\\Python\\Python310\\lib\\site-packages\\pandas\\core\\groupby\\generic.py:244\u001b[0m, in \u001b[0;36mSeriesGroupBy.apply\u001b[1;34m(self, func, *args, **kwargs)\u001b[0m\n\u001b[0;32m    238\u001b[0m \u001b[39m@Appender\u001b[39m(\n\u001b[0;32m    239\u001b[0m     _apply_docs[\u001b[39m\"\u001b[39m\u001b[39mtemplate\u001b[39m\u001b[39m\"\u001b[39m]\u001b[39m.\u001b[39mformat(\n\u001b[0;32m    240\u001b[0m         \u001b[39minput\u001b[39m\u001b[39m=\u001b[39m\u001b[39m\"\u001b[39m\u001b[39mseries\u001b[39m\u001b[39m\"\u001b[39m, examples\u001b[39m=\u001b[39m_apply_docs[\u001b[39m\"\u001b[39m\u001b[39mseries_examples\u001b[39m\u001b[39m\"\u001b[39m]\n\u001b[0;32m    241\u001b[0m     )\n\u001b[0;32m    242\u001b[0m )\n\u001b[0;32m    243\u001b[0m \u001b[39mdef\u001b[39;00m \u001b[39mapply\u001b[39m(\u001b[39mself\u001b[39m, func, \u001b[39m*\u001b[39margs, \u001b[39m*\u001b[39m\u001b[39m*\u001b[39mkwargs):\n\u001b[1;32m--> 244\u001b[0m     \u001b[39mreturn\u001b[39;00m \u001b[39msuper\u001b[39m()\u001b[39m.\u001b[39mapply(func, \u001b[39m*\u001b[39margs, \u001b[39m*\u001b[39m\u001b[39m*\u001b[39mkwargs)\n",
      "File \u001b[1;32mc:\\Users\\t-ponamyar\\AppData\\Local\\Programs\\Python\\Python310\\lib\\site-packages\\pandas\\core\\groupby\\groupby.py:1414\u001b[0m, in \u001b[0;36mGroupBy.apply\u001b[1;34m(self, func, *args, **kwargs)\u001b[0m\n\u001b[0;32m   1412\u001b[0m \u001b[39mwith\u001b[39;00m option_context(\u001b[39m\"\u001b[39m\u001b[39mmode.chained_assignment\u001b[39m\u001b[39m\"\u001b[39m, \u001b[39mNone\u001b[39;00m):\n\u001b[0;32m   1413\u001b[0m     \u001b[39mtry\u001b[39;00m:\n\u001b[1;32m-> 1414\u001b[0m         result \u001b[39m=\u001b[39m \u001b[39mself\u001b[39;49m\u001b[39m.\u001b[39;49m_python_apply_general(f, \u001b[39mself\u001b[39;49m\u001b[39m.\u001b[39;49m_selected_obj)\n\u001b[0;32m   1415\u001b[0m     \u001b[39mexcept\u001b[39;00m \u001b[39mTypeError\u001b[39;00m:\n\u001b[0;32m   1416\u001b[0m         \u001b[39m# gh-20949\u001b[39;00m\n\u001b[0;32m   1417\u001b[0m         \u001b[39m# try again, with .apply acting as a filtering\u001b[39;00m\n\u001b[1;32m   (...)\u001b[0m\n\u001b[0;32m   1421\u001b[0m         \u001b[39m# fails on *some* columns, e.g. a numeric operation\u001b[39;00m\n\u001b[0;32m   1422\u001b[0m         \u001b[39m# on a string grouper column\u001b[39;00m\n\u001b[0;32m   1424\u001b[0m         \u001b[39mwith\u001b[39;00m \u001b[39mself\u001b[39m\u001b[39m.\u001b[39m_group_selection_context():\n",
      "File \u001b[1;32mc:\\Users\\t-ponamyar\\AppData\\Local\\Programs\\Python\\Python310\\lib\\site-packages\\pandas\\core\\groupby\\groupby.py:1455\u001b[0m, in \u001b[0;36mGroupBy._python_apply_general\u001b[1;34m(self, f, data, not_indexed_same)\u001b[0m\n\u001b[0;32m   1429\u001b[0m \u001b[39m@final\u001b[39m\n\u001b[0;32m   1430\u001b[0m \u001b[39mdef\u001b[39;00m \u001b[39m_python_apply_general\u001b[39m(\n\u001b[0;32m   1431\u001b[0m     \u001b[39mself\u001b[39m,\n\u001b[1;32m   (...)\u001b[0m\n\u001b[0;32m   1434\u001b[0m     not_indexed_same: \u001b[39mbool\u001b[39m \u001b[39m|\u001b[39m \u001b[39mNone\u001b[39;00m \u001b[39m=\u001b[39m \u001b[39mNone\u001b[39;00m,\n\u001b[0;32m   1435\u001b[0m ) \u001b[39m-\u001b[39m\u001b[39m>\u001b[39m DataFrame \u001b[39m|\u001b[39m Series:\n\u001b[0;32m   1436\u001b[0m     \u001b[39m\"\"\"\u001b[39;00m\n\u001b[0;32m   1437\u001b[0m \u001b[39m    Apply function f in python space\u001b[39;00m\n\u001b[0;32m   1438\u001b[0m \n\u001b[1;32m   (...)\u001b[0m\n\u001b[0;32m   1453\u001b[0m \u001b[39m        data after applying f\u001b[39;00m\n\u001b[0;32m   1454\u001b[0m \u001b[39m    \"\"\"\u001b[39;00m\n\u001b[1;32m-> 1455\u001b[0m     values, mutated \u001b[39m=\u001b[39m \u001b[39mself\u001b[39;49m\u001b[39m.\u001b[39;49mgrouper\u001b[39m.\u001b[39;49mapply(f, data, \u001b[39mself\u001b[39;49m\u001b[39m.\u001b[39;49maxis)\n\u001b[0;32m   1457\u001b[0m     \u001b[39mif\u001b[39;00m not_indexed_same \u001b[39mis\u001b[39;00m \u001b[39mNone\u001b[39;00m:\n\u001b[0;32m   1458\u001b[0m         not_indexed_same \u001b[39m=\u001b[39m mutated \u001b[39mor\u001b[39;00m \u001b[39mself\u001b[39m\u001b[39m.\u001b[39mmutated\n",
      "File \u001b[1;32mc:\\Users\\t-ponamyar\\AppData\\Local\\Programs\\Python\\Python310\\lib\\site-packages\\pandas\\core\\groupby\\ops.py:761\u001b[0m, in \u001b[0;36mBaseGrouper.apply\u001b[1;34m(self, f, data, axis)\u001b[0m\n\u001b[0;32m    759\u001b[0m \u001b[39m# group might be modified\u001b[39;00m\n\u001b[0;32m    760\u001b[0m group_axes \u001b[39m=\u001b[39m group\u001b[39m.\u001b[39maxes\n\u001b[1;32m--> 761\u001b[0m res \u001b[39m=\u001b[39m f(group)\n\u001b[0;32m    762\u001b[0m \u001b[39mif\u001b[39;00m \u001b[39mnot\u001b[39;00m mutated \u001b[39mand\u001b[39;00m \u001b[39mnot\u001b[39;00m _is_indexed_like(res, group_axes, axis):\n\u001b[0;32m    763\u001b[0m     mutated \u001b[39m=\u001b[39m \u001b[39mTrue\u001b[39;00m\n",
      "File \u001b[1;32mc:\\Users\\t-ponamyar\\AppData\\Local\\Programs\\Python\\Python310\\lib\\site-packages\\seaborn\\relational.py:396\u001b[0m, in \u001b[0;36m_LinePlotter.aggregate.<locals>.bootstrapped_cis\u001b[1;34m(vals)\u001b[0m\n\u001b[0;32m    393\u001b[0m     \u001b[39mreturn\u001b[39;00m null_ci\n\u001b[0;32m    395\u001b[0m boots \u001b[39m=\u001b[39m bootstrap(vals, func\u001b[39m=\u001b[39mfunc, n_boot\u001b[39m=\u001b[39mn_boot, seed\u001b[39m=\u001b[39mseed)\n\u001b[1;32m--> 396\u001b[0m cis \u001b[39m=\u001b[39m ci_func(boots, ci)\n\u001b[0;32m    397\u001b[0m \u001b[39mreturn\u001b[39;00m pd\u001b[39m.\u001b[39mSeries(cis, [\u001b[39m\"\u001b[39m\u001b[39mlow\u001b[39m\u001b[39m\"\u001b[39m, \u001b[39m\"\u001b[39m\u001b[39mhigh\u001b[39m\u001b[39m\"\u001b[39m])\n",
      "File \u001b[1;32mc:\\Users\\t-ponamyar\\AppData\\Local\\Programs\\Python\\Python310\\lib\\site-packages\\seaborn\\utils.py:475\u001b[0m, in \u001b[0;36mci\u001b[1;34m(a, which, axis)\u001b[0m\n\u001b[0;32m    473\u001b[0m \u001b[39m\"\"\"Return a percentile range from an array of values.\"\"\"\u001b[39;00m\n\u001b[0;32m    474\u001b[0m p \u001b[39m=\u001b[39m \u001b[39m50\u001b[39m \u001b[39m-\u001b[39m which \u001b[39m/\u001b[39m \u001b[39m2\u001b[39m, \u001b[39m50\u001b[39m \u001b[39m+\u001b[39m which \u001b[39m/\u001b[39m \u001b[39m2\u001b[39m\n\u001b[1;32m--> 475\u001b[0m \u001b[39mreturn\u001b[39;00m np\u001b[39m.\u001b[39;49mnanpercentile(a, p, axis)\n",
      "File \u001b[1;32m<__array_function__ internals>:180\u001b[0m, in \u001b[0;36mnanpercentile\u001b[1;34m(*args, **kwargs)\u001b[0m\n",
      "File \u001b[1;32mc:\\Users\\t-ponamyar\\AppData\\Local\\Programs\\Python\\Python310\\lib\\site-packages\\numpy\\lib\\nanfunctions.py:1385\u001b[0m, in \u001b[0;36mnanpercentile\u001b[1;34m(a, q, axis, out, overwrite_input, method, keepdims, interpolation)\u001b[0m\n\u001b[0;32m   1383\u001b[0m \u001b[39mif\u001b[39;00m \u001b[39mnot\u001b[39;00m function_base\u001b[39m.\u001b[39m_quantile_is_valid(q):\n\u001b[0;32m   1384\u001b[0m     \u001b[39mraise\u001b[39;00m \u001b[39mValueError\u001b[39;00m(\u001b[39m\"\u001b[39m\u001b[39mPercentiles must be in the range [0, 100]\u001b[39m\u001b[39m\"\u001b[39m)\n\u001b[1;32m-> 1385\u001b[0m \u001b[39mreturn\u001b[39;00m _nanquantile_unchecked(\n\u001b[0;32m   1386\u001b[0m     a, q, axis, out, overwrite_input, method, keepdims)\n",
      "File \u001b[1;32mc:\\Users\\t-ponamyar\\AppData\\Local\\Programs\\Python\\Python310\\lib\\site-packages\\numpy\\lib\\nanfunctions.py:1560\u001b[0m, in \u001b[0;36m_nanquantile_unchecked\u001b[1;34m(a, q, axis, out, overwrite_input, method, keepdims)\u001b[0m\n\u001b[0;32m   1558\u001b[0m \u001b[39mif\u001b[39;00m a\u001b[39m.\u001b[39msize \u001b[39m==\u001b[39m \u001b[39m0\u001b[39m:\n\u001b[0;32m   1559\u001b[0m     \u001b[39mreturn\u001b[39;00m np\u001b[39m.\u001b[39mnanmean(a, axis, out\u001b[39m=\u001b[39mout, keepdims\u001b[39m=\u001b[39mkeepdims)\n\u001b[1;32m-> 1560\u001b[0m r, k \u001b[39m=\u001b[39m function_base\u001b[39m.\u001b[39;49m_ureduce(a,\n\u001b[0;32m   1561\u001b[0m                               func\u001b[39m=\u001b[39;49m_nanquantile_ureduce_func,\n\u001b[0;32m   1562\u001b[0m                               q\u001b[39m=\u001b[39;49mq,\n\u001b[0;32m   1563\u001b[0m                               axis\u001b[39m=\u001b[39;49maxis,\n\u001b[0;32m   1564\u001b[0m                               out\u001b[39m=\u001b[39;49mout,\n\u001b[0;32m   1565\u001b[0m                               overwrite_input\u001b[39m=\u001b[39;49moverwrite_input,\n\u001b[0;32m   1566\u001b[0m                               method\u001b[39m=\u001b[39;49mmethod)\n\u001b[0;32m   1567\u001b[0m \u001b[39mif\u001b[39;00m keepdims \u001b[39mand\u001b[39;00m keepdims \u001b[39mis\u001b[39;00m \u001b[39mnot\u001b[39;00m np\u001b[39m.\u001b[39m_NoValue:\n\u001b[0;32m   1568\u001b[0m     \u001b[39mreturn\u001b[39;00m r\u001b[39m.\u001b[39mreshape(q\u001b[39m.\u001b[39mshape \u001b[39m+\u001b[39m k)\n",
      "File \u001b[1;32mc:\\Users\\t-ponamyar\\AppData\\Local\\Programs\\Python\\Python310\\lib\\site-packages\\numpy\\lib\\function_base.py:3702\u001b[0m, in \u001b[0;36m_ureduce\u001b[1;34m(a, func, **kwargs)\u001b[0m\n\u001b[0;32m   3699\u001b[0m \u001b[39melse\u001b[39;00m:\n\u001b[0;32m   3700\u001b[0m     keepdim \u001b[39m=\u001b[39m (\u001b[39m1\u001b[39m,) \u001b[39m*\u001b[39m a\u001b[39m.\u001b[39mndim\n\u001b[1;32m-> 3702\u001b[0m r \u001b[39m=\u001b[39m func(a, \u001b[39m*\u001b[39m\u001b[39m*\u001b[39mkwargs)\n\u001b[0;32m   3703\u001b[0m \u001b[39mreturn\u001b[39;00m r, keepdim\n",
      "File \u001b[1;32mc:\\Users\\t-ponamyar\\AppData\\Local\\Programs\\Python\\Python310\\lib\\site-packages\\numpy\\lib\\nanfunctions.py:1582\u001b[0m, in \u001b[0;36m_nanquantile_ureduce_func\u001b[1;34m(a, q, axis, out, overwrite_input, method)\u001b[0m\n\u001b[0;32m   1580\u001b[0m \u001b[39mif\u001b[39;00m axis \u001b[39mis\u001b[39;00m \u001b[39mNone\u001b[39;00m \u001b[39mor\u001b[39;00m a\u001b[39m.\u001b[39mndim \u001b[39m==\u001b[39m \u001b[39m1\u001b[39m:\n\u001b[0;32m   1581\u001b[0m     part \u001b[39m=\u001b[39m a\u001b[39m.\u001b[39mravel()\n\u001b[1;32m-> 1582\u001b[0m     result \u001b[39m=\u001b[39m _nanquantile_1d(part, q, overwrite_input, method)\n\u001b[0;32m   1583\u001b[0m \u001b[39melse\u001b[39;00m:\n\u001b[0;32m   1584\u001b[0m     result \u001b[39m=\u001b[39m np\u001b[39m.\u001b[39mapply_along_axis(_nanquantile_1d, axis, a, q,\n\u001b[0;32m   1585\u001b[0m                                  overwrite_input, method)\n",
      "File \u001b[1;32mc:\\Users\\t-ponamyar\\AppData\\Local\\Programs\\Python\\Python310\\lib\\site-packages\\numpy\\lib\\nanfunctions.py:1608\u001b[0m, in \u001b[0;36m_nanquantile_1d\u001b[1;34m(arr1d, q, overwrite_input, method)\u001b[0m\n\u001b[0;32m   1604\u001b[0m \u001b[39mif\u001b[39;00m arr1d\u001b[39m.\u001b[39msize \u001b[39m==\u001b[39m \u001b[39m0\u001b[39m:\n\u001b[0;32m   1605\u001b[0m     \u001b[39m# convert to scalar\u001b[39;00m\n\u001b[0;32m   1606\u001b[0m     \u001b[39mreturn\u001b[39;00m np\u001b[39m.\u001b[39mfull(q\u001b[39m.\u001b[39mshape, np\u001b[39m.\u001b[39mnan, dtype\u001b[39m=\u001b[39marr1d\u001b[39m.\u001b[39mdtype)[()]\n\u001b[1;32m-> 1608\u001b[0m \u001b[39mreturn\u001b[39;00m function_base\u001b[39m.\u001b[39;49m_quantile_unchecked(\n\u001b[0;32m   1609\u001b[0m     arr1d, q, overwrite_input\u001b[39m=\u001b[39;49moverwrite_input, method\u001b[39m=\u001b[39;49mmethod)\n",
      "File \u001b[1;32mc:\\Users\\t-ponamyar\\AppData\\Local\\Programs\\Python\\Python310\\lib\\site-packages\\numpy\\lib\\function_base.py:4383\u001b[0m, in \u001b[0;36m_quantile_unchecked\u001b[1;34m(a, q, axis, out, overwrite_input, method, keepdims)\u001b[0m\n\u001b[0;32m   4375\u001b[0m \u001b[39mdef\u001b[39;00m \u001b[39m_quantile_unchecked\u001b[39m(a,\n\u001b[0;32m   4376\u001b[0m                         q,\n\u001b[0;32m   4377\u001b[0m                         axis\u001b[39m=\u001b[39m\u001b[39mNone\u001b[39;00m,\n\u001b[1;32m   (...)\u001b[0m\n\u001b[0;32m   4380\u001b[0m                         method\u001b[39m=\u001b[39m\u001b[39m\"\u001b[39m\u001b[39mlinear\u001b[39m\u001b[39m\"\u001b[39m,\n\u001b[0;32m   4381\u001b[0m                         keepdims\u001b[39m=\u001b[39m\u001b[39mFalse\u001b[39;00m):\n\u001b[0;32m   4382\u001b[0m     \u001b[39m\"\"\"Assumes that q is in [0, 1], and is an ndarray\"\"\"\u001b[39;00m\n\u001b[1;32m-> 4383\u001b[0m     r, k \u001b[39m=\u001b[39m _ureduce(a,\n\u001b[0;32m   4384\u001b[0m                     func\u001b[39m=\u001b[39;49m_quantile_ureduce_func,\n\u001b[0;32m   4385\u001b[0m                     q\u001b[39m=\u001b[39;49mq,\n\u001b[0;32m   4386\u001b[0m                     axis\u001b[39m=\u001b[39;49maxis,\n\u001b[0;32m   4387\u001b[0m                     out\u001b[39m=\u001b[39;49mout,\n\u001b[0;32m   4388\u001b[0m                     overwrite_input\u001b[39m=\u001b[39;49moverwrite_input,\n\u001b[0;32m   4389\u001b[0m                     method\u001b[39m=\u001b[39;49mmethod)\n\u001b[0;32m   4390\u001b[0m     \u001b[39mif\u001b[39;00m keepdims:\n\u001b[0;32m   4391\u001b[0m         \u001b[39mreturn\u001b[39;00m r\u001b[39m.\u001b[39mreshape(q\u001b[39m.\u001b[39mshape \u001b[39m+\u001b[39m k)\n",
      "File \u001b[1;32mc:\\Users\\t-ponamyar\\AppData\\Local\\Programs\\Python\\Python310\\lib\\site-packages\\numpy\\lib\\function_base.py:3702\u001b[0m, in \u001b[0;36m_ureduce\u001b[1;34m(a, func, **kwargs)\u001b[0m\n\u001b[0;32m   3699\u001b[0m \u001b[39melse\u001b[39;00m:\n\u001b[0;32m   3700\u001b[0m     keepdim \u001b[39m=\u001b[39m (\u001b[39m1\u001b[39m,) \u001b[39m*\u001b[39m a\u001b[39m.\u001b[39mndim\n\u001b[1;32m-> 3702\u001b[0m r \u001b[39m=\u001b[39m func(a, \u001b[39m*\u001b[39m\u001b[39m*\u001b[39mkwargs)\n\u001b[0;32m   3703\u001b[0m \u001b[39mreturn\u001b[39;00m r, keepdim\n",
      "File \u001b[1;32mc:\\Users\\t-ponamyar\\AppData\\Local\\Programs\\Python\\Python310\\lib\\site-packages\\numpy\\lib\\function_base.py:4552\u001b[0m, in \u001b[0;36m_quantile_ureduce_func\u001b[1;34m(a, q, axis, out, overwrite_input, method)\u001b[0m\n\u001b[0;32m   4550\u001b[0m     \u001b[39melse\u001b[39;00m:\n\u001b[0;32m   4551\u001b[0m         arr \u001b[39m=\u001b[39m a\u001b[39m.\u001b[39mcopy()\n\u001b[1;32m-> 4552\u001b[0m result \u001b[39m=\u001b[39m _quantile(arr,\n\u001b[0;32m   4553\u001b[0m                    quantiles\u001b[39m=\u001b[39;49mq,\n\u001b[0;32m   4554\u001b[0m                    axis\u001b[39m=\u001b[39;49maxis,\n\u001b[0;32m   4555\u001b[0m                    method\u001b[39m=\u001b[39;49mmethod,\n\u001b[0;32m   4556\u001b[0m                    out\u001b[39m=\u001b[39;49mout)\n\u001b[0;32m   4557\u001b[0m \u001b[39mreturn\u001b[39;00m result\n",
      "File \u001b[1;32mc:\\Users\\t-ponamyar\\AppData\\Local\\Programs\\Python\\Python310\\lib\\site-packages\\numpy\\lib\\function_base.py:4651\u001b[0m, in \u001b[0;36m_quantile\u001b[1;34m(arr, quantiles, axis, method, out)\u001b[0m\n\u001b[0;32m   4646\u001b[0m previous_indexes, next_indexes \u001b[39m=\u001b[39m _get_indexes(arr,\n\u001b[0;32m   4647\u001b[0m                                               virtual_indexes,\n\u001b[0;32m   4648\u001b[0m                                               values_count)\n\u001b[0;32m   4649\u001b[0m \u001b[39m# --- Sorting\u001b[39;00m\n\u001b[0;32m   4650\u001b[0m arr\u001b[39m.\u001b[39mpartition(\n\u001b[1;32m-> 4651\u001b[0m     np\u001b[39m.\u001b[39;49munique(np\u001b[39m.\u001b[39;49mconcatenate(([\u001b[39m0\u001b[39;49m, \u001b[39m-\u001b[39;49m\u001b[39m1\u001b[39;49m],\n\u001b[0;32m   4652\u001b[0m                               previous_indexes\u001b[39m.\u001b[39;49mravel(),\n\u001b[0;32m   4653\u001b[0m                               next_indexes\u001b[39m.\u001b[39;49mravel(),\n\u001b[0;32m   4654\u001b[0m                               ))),\n\u001b[0;32m   4655\u001b[0m     axis\u001b[39m=\u001b[39mDATA_AXIS)\n\u001b[0;32m   4656\u001b[0m \u001b[39mif\u001b[39;00m np\u001b[39m.\u001b[39missubdtype(arr\u001b[39m.\u001b[39mdtype, np\u001b[39m.\u001b[39minexact):\n\u001b[0;32m   4657\u001b[0m     slices_having_nans \u001b[39m=\u001b[39m np\u001b[39m.\u001b[39misnan(\n\u001b[0;32m   4658\u001b[0m         take(arr, indices\u001b[39m=\u001b[39m\u001b[39m-\u001b[39m\u001b[39m1\u001b[39m, axis\u001b[39m=\u001b[39mDATA_AXIS)\n\u001b[0;32m   4659\u001b[0m     )\n",
      "File \u001b[1;32m<__array_function__ internals>:180\u001b[0m, in \u001b[0;36munique\u001b[1;34m(*args, **kwargs)\u001b[0m\n",
      "File \u001b[1;32mc:\\Users\\t-ponamyar\\AppData\\Local\\Programs\\Python\\Python310\\lib\\site-packages\\numpy\\lib\\arraysetops.py:272\u001b[0m, in \u001b[0;36munique\u001b[1;34m(ar, return_index, return_inverse, return_counts, axis)\u001b[0m\n\u001b[0;32m    270\u001b[0m ar \u001b[39m=\u001b[39m np\u001b[39m.\u001b[39masanyarray(ar)\n\u001b[0;32m    271\u001b[0m \u001b[39mif\u001b[39;00m axis \u001b[39mis\u001b[39;00m \u001b[39mNone\u001b[39;00m:\n\u001b[1;32m--> 272\u001b[0m     ret \u001b[39m=\u001b[39m _unique1d(ar, return_index, return_inverse, return_counts)\n\u001b[0;32m    273\u001b[0m     \u001b[39mreturn\u001b[39;00m _unpack_tuple(ret)\n\u001b[0;32m    275\u001b[0m \u001b[39m# axis was specified and not None\u001b[39;00m\n",
      "File \u001b[1;32mc:\\Users\\t-ponamyar\\AppData\\Local\\Programs\\Python\\Python310\\lib\\site-packages\\numpy\\lib\\arraysetops.py:333\u001b[0m, in \u001b[0;36m_unique1d\u001b[1;34m(ar, return_index, return_inverse, return_counts)\u001b[0m\n\u001b[0;32m    331\u001b[0m     aux \u001b[39m=\u001b[39m ar[perm]\n\u001b[0;32m    332\u001b[0m \u001b[39melse\u001b[39;00m:\n\u001b[1;32m--> 333\u001b[0m     ar\u001b[39m.\u001b[39;49msort()\n\u001b[0;32m    334\u001b[0m     aux \u001b[39m=\u001b[39m ar\n\u001b[0;32m    335\u001b[0m mask \u001b[39m=\u001b[39m np\u001b[39m.\u001b[39mempty(aux\u001b[39m.\u001b[39mshape, dtype\u001b[39m=\u001b[39mnp\u001b[39m.\u001b[39mbool_)\n",
      "\u001b[1;31mKeyboardInterrupt\u001b[0m: "
     ]
    },
    {
     "data": {
      "image/png": "[encoded data removed]",
      "text/plain": [
       "<Figure size 2400x900 with 1 Axes>"
      ]
     },
     "metadata": {
      "needs_background": "light"
     },
     "output_type": "display_data"
    }
   ],
   "source": [
    "plt.rc('axes', linewidth=2)\n",
    "plt.figure(figsize=(8, 3), dpi=300)\n",
    "x_min = np.inf\n",
    "# for idx, (approach, output) in enumerate(approach_to_dur_gap_mapping.items()):\n",
    "#     plt.plot(output[0], output[1] * 100/ norm_factor, label=approach, color=colors[idx], linestyle=line_styles[idx], \n",
    "#             #  marker=\"o\", \n",
    "#             #  mfc=\"white\", \n",
    "#             #  mec=colors[idx], \n",
    "#             #  markersize=10, \n",
    "#              linewidth=3, \n",
    "#             #  markeredgewidth=3\n",
    "#     )\n",
    "#     x_min = np.minimum(x_min, np.min(output[0]))\n",
    "sns.lineplot(x=\"dur\", y=\"gap\",\n",
    "             hue=\"approach\", data=data_df, palette=colors)\n",
    "# #add arrow to plot\n",
    "# plt.arrow(x=4, y=0.75, dx=0, dy=0.1, width=0.5, head_length=0.03, fc=\"white\") \n",
    "\n",
    "#add annotation\n",
    "min_y = 10\n",
    "size_arrow = 14\n",
    "min_x = 3.1\n",
    "# plt.annotate('Better', xy = (3.1, min_y - 0.1))\n",
    "bbox_props = dict(boxstyle=\"rarrow\", ec=\"black\", fc=\"white\", lw=2)\n",
    "t = plt.text(min_x, min_y, \"Better\", ha=\"center\", va=\"center\", rotation=90,\n",
    "            size=size_arrow,\n",
    "            bbox=bbox_props)\n",
    "bb = t.get_bbox_patch()\n",
    "bb.set_boxstyle(\"rarrow\", pad=0.6)\n",
    "\n",
    "plt.legend(fontsize=12, loc=\"lower right\")\n",
    "# plt.title(\"Pop2 + 2-shortest paths on B4\", fontsize=16)\n",
    "plt.xlabel(\"time (s)\", fontsize=16)\n",
    "plt.ylabel(\"norm advers gap (%)\", fontsize=16)\n",
    "plt.xscale('log')\n",
    "# plt.yticks(np.arange(0.25, 0.47, 0.03), fontsize=14)\n",
    "plt.yticks(fontsize=14)\n",
    "plt.xticks([0.01, 0.1, 1, 10, 100, 1000], fontsize=14)\n",
    "plt.xlim([0.009, 1100])\n",
    "# plt.ylim([0, 46])\n",
    "plt.grid(which=\"major\", zorder=-1, linestyle=\"--\")\n",
    "plt.savefig(output_fig_dir + \"pop2_2sp.jpg\", bbox_inches=\"tight\", format=\"jpg\", dpi=300)\n",
    "plt.savefig(output_fig_dir + \"pop2_2sp.pdf\", bbox_inches=\"tight\", format=\"pdf\", dpi=300)\n",
    "print(x_min)"
   ]
  },
  {
   "cell_type": "code",
   "execution_count": null,
   "metadata": {},
   "outputs": [],
   "source": []
  }
 ],
 "metadata": {
  "kernelspec": {
   "display_name": "Python 3.10.5 64-bit",
   "language": "python",
   "name": "python3"
  },
  "language_info": {
   "codemirror_mode": {
    "name": "ipython",
    "version": 3
   },
   "file_extension": ".py",
   "mimetype": "text/x-python",
   "name": "python",
   "nbconvert_exporter": "python",
   "pygments_lexer": "ipython3",
   "version": "3.10.5"
  },
  "orig_nbformat": 4,
  "vscode": {
   "interpreter": {
    "hash": "fea7bd802f1645e206eb41f6d14f754f6e7846f6685548b2bc9d3b29e568ca0a"
   }
  }
 },
 "nbformat": 4,
 "nbformat_minor": 2
}
