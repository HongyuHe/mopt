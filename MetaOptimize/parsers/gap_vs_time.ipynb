{
 "cells": [
  {
   "cell_type": "code",
   "execution_count": null,
   "metadata": {},
   "outputs": [],
   "source": [
    "import pip\n",
    "pip.main([\"install\",\"matplotlib\"])"
   ]
  },
  {
   "cell_type": "code",
   "execution_count": 10,
   "metadata": {},
   "outputs": [],
   "source": [
    "import matplotlib.pyplot as plt"
   ]
  },
  {
   "cell_type": "code",
   "execution_count": 5,
   "metadata": {},
   "outputs": [],
   "source": [
    "approach_to_fpath_dict = {\"KKT\": \"c:\\\\tmp\\\\logs\\\\our.txt\"}\n",
    "approach_to_dur_gap_mapping = dict()"
   ]
  },
  {
   "cell_type": "code",
   "execution_count": 6,
   "metadata": {},
   "outputs": [],
   "source": [
    "for approach, fpath in approach_to_fpath_dict.items():\n",
    "    gap_list = []\n",
    "    dur_list = []\n",
    "    with open(fpath, \"r\") as fp:\n",
    "        for fline in fp.readlines():\n",
    "            dur_ms, gap = fline.split(\",\")\n",
    "            gap_list.append(float(gap))\n",
    "            dur_list.append(int(dur_ms) / 1000)\n",
    "    \n",
    "    approach_to_dur_gap_mapping[approach] = [dur_list, gap_list]"
   ]
  },
  {
   "cell_type": "code",
   "execution_count": 12,
   "metadata": {},
   "outputs": [
    {
     "data": {
      "image/png": "[encoded data removed]",
      "text/plain": [
       "<Figure size 432x288 with 1 Axes>"
      ]
     },
     "metadata": {
      "needs_background": "light"
     },
     "output_type": "display_data"
    }
   ],
   "source": [
    "plt.figure()\n",
    "for approach, output in approach_to_dur_gap_mapping.items():\n",
    "    plt.plot(output[0], output[1], label=approach)\n",
    "plt.legend()\n",
    "plt.xlabel(\"time\")\n",
    "plt.ylabel(\"gap\")\n",
    "plt.show()"
   ]
  },
  {
   "cell_type": "code",
   "execution_count": null,
   "metadata": {},
   "outputs": [],
   "source": []
  }
 ],
 "metadata": {
  "kernelspec": {
   "display_name": "Python 3.10.5 64-bit",
   "language": "python",
   "name": "python3"
  },
  "language_info": {
   "codemirror_mode": {
    "name": "ipython",
    "version": 3
   },
   "file_extension": ".py",
   "mimetype": "text/x-python",
   "name": "python",
   "nbconvert_exporter": "python",
   "pygments_lexer": "ipython3",
   "version": "3.10.5"
  },
  "orig_nbformat": 4,
  "vscode": {
   "interpreter": {
    "hash": "fea7bd802f1645e206eb41f6d14f754f6e7846f6685548b2bc9d3b29e568ca0a"
   }
  }
 },
 "nbformat": 4,
 "nbformat_minor": 2
}
