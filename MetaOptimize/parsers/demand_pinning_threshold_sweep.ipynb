{
 "cells": [
  {
   "cell_type": "code",
   "execution_count": 126,
   "metadata": {},
   "outputs": [],
   "source": [
    "import matplotlib.pyplot as plt\n",
    "import numpy as np\n",
    "import pprint\n",
    "import os, sys\n",
    "from collections import defaultdict"
   ]
  },
  {
   "cell_type": "code",
   "execution_count": 127,
   "metadata": {},
   "outputs": [],
   "source": [
    "output_fig_dir = \"..\\\\figs\\\\\"\n",
    "if not os.path.isdir(output_fig_dir):\n",
    "    os.mkdir(output_fig_dir)"
   ]
  },
  {
   "cell_type": "code",
   "execution_count": 154,
   "metadata": {},
   "outputs": [],
   "source": [
    "topo_to_log_file_dict = {\n",
    "    # \"B4\": [\"..\\\\logs\\\\demand_pinning_sweep_thresh\\\\2022_6_17_8_45_6_530\\\\B4_DemandPinning.txt\",\n",
    "    #        \"..\\\\logs\\\\demand_pinning_sweep_thresh\\\\2022_6_18_15_44_37_414\\\\B4_DemandPinning.txt\"\n",
    "    # ],\n",
    "    \"B4\": [\"..\\\\logs\\\\demand_pinning_sweep_thresh\\\\2022_6_19_11_24_38_978\\\\B4_DemandPinning.txt\"],\n",
    "    # \"SWAN\": [\"..\\\\logs\\\\demand_pinning_sweep_thresh\\\\2022_6_17_8_45_6_530\\\\SWAN_DemandPinning.txt\",\n",
    "    #          \"..\\\\logs\\\\demand_pinning_sweep_thresh\\\\2022_6_18_15_44_37_414\\\\SWAN_DemandPinning.txt\"\n",
    "    # ],\n",
    "    \"SWAN\": [\"..\\\\logs\\\\demand_pinning_sweep_thresh\\\\2022_6_19_11_24_38_978\\\\SWAN_DemandPinning.txt\"],\n",
    "    # \"Abilene\": [\"..\\logs\\\\demand_pinning_sweep_thresh\\\\2022_6_17_8_45_6_530\\\\Abilene_DemandPinning.txt\",\n",
    "    #         \"..\\logs\\\\demand_pinning_sweep_thresh\\\\2022_6_18_15_44_37_414\\\\Abilene_DemandPinning.txt\"\n",
    "    # ],\n",
    "    \"Abilene\": [\"..\\\\logs\\\\demand_pinning_sweep_thresh\\\\2022_6_19_11_24_38_978\\\\Abilene_DemandPinning.txt\"],\n",
    "}\n",
    "topo_to_num_links = {\n",
    "    \"B4\": 38,\n",
    "    \"SWAN\": 24,\n",
    "    \"Abilene\": 26\n",
    "}\n",
    "topology_to_threshold_to_gap = defaultdict(dict)"
   ]
  },
  {
   "cell_type": "code",
   "execution_count": 155,
   "metadata": {},
   "outputs": [],
   "source": [
    "for (topo, log_file_list) in topo_to_log_file_dict.items():\n",
    "    thresh_list = []\n",
    "    gap_list = []\n",
    "    for log_file in log_file_list:\n",
    "        with open(log_file, \"r\") as fp:\n",
    "            link_cap = int(fp.readline())\n",
    "            for fline in fp.readlines():\n",
    "                if fline.startswith(\"#\"):\n",
    "                    continue\n",
    "                thresh_perc, thresh, opt, heuristic, gap = fline.split(\",\")\n",
    "                gap = float(gap)\n",
    "                thresh_perc = float(thresh_perc)\n",
    "                norm_gap = gap * 100 / (topo_to_num_links[topo] * link_cap)\n",
    "                thresh_list.append(thresh_perc)\n",
    "                gap_list.append(norm_gap)\n",
    "    thresh_list = np.array(thresh_list)\n",
    "    gap_list = np.array(gap_list)\n",
    "    sorted_args = np.argsort(thresh_list)\n",
    "    topology_to_threshold_to_gap[topo] = (thresh_list[sorted_args], gap_list[sorted_args])"
   ]
  },
  {
   "cell_type": "code",
   "execution_count": 156,
   "metadata": {},
   "outputs": [
    {
     "data": {
      "text/plain": [
       "defaultdict(dict,\n",
       "            {'B4': (array([ 0. ,  2.5,  5. ,  7.5, 10. , 12.5, 15. ]),\n",
       "              array([1.11186895e-08, 1.13157895e+01, 2.27631579e+01, 3.05263158e+01,\n",
       "                     3.39473684e+01, 3.68421053e+01, 3.82894737e+01])),\n",
       "             'SWAN': (array([ 0. ,  2.5,  5. ,  7.5, 10. , 12.5, 15. ]),\n",
       "              array([4.41646019e-08, 4.27083335e+00, 8.54166667e+00, 1.28125000e+01,\n",
       "                     1.70833333e+01, 2.08333333e+01, 2.56250000e+01])),\n",
       "             'Abilene': (array([ 0. ,  2.5,  5. ,  7.5, 10. , 12.5, 15. ]),\n",
       "              array([1.61347886e-08, 1.09615385e+01, 2.19230769e+01, 3.26923077e+01,\n",
       "                     4.00000000e+01, 4.42307692e+01, 4.67307692e+01]))})"
      ]
     },
     "execution_count": 156,
     "metadata": {},
     "output_type": "execute_result"
    }
   ],
   "source": [
    "topology_to_threshold_to_gap"
   ]
  },
  {
   "cell_type": "code",
   "execution_count": 157,
   "metadata": {},
   "outputs": [
    {
     "data": {
      "image/png": "[encoded data removed]",
      "text/html": [
       "<div style=\"vertical-align: middle;\"><strong>Set1</strong> </div><div class=\"cmap\"><img alt=\"Set1 colormap\" title=\"Set1\" style=\"border: 1px solid #555;\" src=\"data:image/png;base64,iVBORw0KGgoAAAANSUhEUgAAAgAAAABACAYAAABsv8+/AAAAE3RFWHRUaXRsZQBTZXQxIGNvbG9ybWFwG6zH/AAAABl0RVh0RGVzY3JpcHRpb24AU2V0MSBjb2xvcm1hcJAeV2QAAAAwdEVYdEF1dGhvcgBNYXRwbG90bGliIHYzLjUuMiwgaHR0cHM6Ly9tYXRwbG90bGliLm9yZ8JaeJwAAAAydEVYdFNvZnR3YXJlAE1hdHBsb3RsaWIgdjMuNS4yLCBodHRwczovL21hdHBsb3RsaWIub3Jn7PznuwAAAXJJREFUeJzt1rFJA2AYAFF1CBHJBlbBMazEQlKkE7JGZrCxCQRs3MnaFax1it8PvPcmuPIuv243Pxf/3NPLaTphuevt63TCcg/n3XTCcoftfjphreP9dMFyH8/f0wnLPd69TScs937zOZ2w3NV0AADw9wwAAAQZAAAIMgAAEGQAACDIAABAkAEAgCADAABBBgAAggwAAAQZAAAIMgAAEGQAACDIAABAkAEAgCADAABBBgAAggwAAAQZAAAIMgAAEGQAACDIAABAkAEAgCADAABBBgAAggwAAAQZAAAIMgAAEGQAACDIAABAkAEAgCADAABBBgAAggwAAAQZAAAIMgAAEGQAACDIAABAkAEAgCADAABBBgAAggwAAAQZAAAIMgAAEGQAACDIAABAkAEAgCADAABBBgAAggwAAAQZAAAIMgAAEGQAACDIAABAkAEAgCADAABBBgAAggwAAAQZAAAIMgAAEGQAACDIAABAkAEAgKBfc6EMSuFnNvgAAAAASUVORK5CYII=\"></div><div style=\"vertical-align: middle; max-width: 514px; display: flex; justify-content: space-between;\"><div style=\"float: left;\"><div title=\"#e41a1cff\" style=\"display: inline-block; width: 1em; height: 1em; margin: 0; vertical-align: middle; border: 1px solid #555; background-color: #e41a1cff;\"></div> under</div><div style=\"margin: 0 auto; display: inline-block;\">bad <div title=\"#00000000\" style=\"display: inline-block; width: 1em; height: 1em; margin: 0; vertical-align: middle; border: 1px solid #555; background-color: #00000000;\"></div></div><div style=\"float: right;\">over <div title=\"#999999ff\" style=\"display: inline-block; width: 1em; height: 1em; margin: 0; vertical-align: middle; border: 1px solid #555; background-color: #999999ff;\"></div></div>"
      ],
      "text/plain": [
       "<matplotlib.colors.ListedColormap at 0x202b406b070>"
      ]
     },
     "execution_count": 157,
     "metadata": {},
     "output_type": "execute_result"
    }
   ],
   "source": [
    "color_pallette = plt.get_cmap(\"Set1\")\n",
    "color_pallette"
   ]
  },
  {
   "cell_type": "code",
   "execution_count": 158,
   "metadata": {},
   "outputs": [],
   "source": [
    "# colors = [color_pallette(3), color_pallette(0), color_pallette(4), color_pallette(2)]\n",
    "# colors = [color_pallette(1), color_pallette(2), color_pallette(3), color_pallette(4)]\n",
    "# colors = [color_pallette(1), color_pallette(3), color_pallette(2), color_pallette(0), color_pallette(4)]\n",
    "colors = [color_pallette(1), color_pallette(3), color_pallette(2), color_pallette(4)]\n",
    "line_styles = [\"--\", \"--\", \":\", \"--\"]"
   ]
  },
  {
   "cell_type": "code",
   "execution_count": 161,
   "metadata": {},
   "outputs": [
    {
     "ename": "SyntaxError",
     "evalue": "keyword argument repeated: markersize (2052535342.py, line 13)",
     "output_type": "error",
     "traceback": [
      "\u001b[1;36m  Input \u001b[1;32mIn [161]\u001b[1;36m\u001b[0m\n\u001b[1;33m    markersize=10,\u001b[0m\n\u001b[1;37m    ^\u001b[0m\n\u001b[1;31mSyntaxError\u001b[0m\u001b[1;31m:\u001b[0m keyword argument repeated: markersize\n"
     ]
    },
    {
     "data": {
      "text/plain": [
       "<Figure size 2400x900 with 0 Axes>"
      ]
     },
     "metadata": {},
     "output_type": "display_data"
    }
   ],
   "source": [
    "plt.rc('axes', linewidth=2)\n",
    "plt.figure(figsize=(8, 3), dpi=300)\n",
    "for idx, (topo_name, output) in enumerate(topology_to_threshold_to_gap.items()):\n",
    "    plt.plot(output[0], output[1], label=f\"{topo_name}\", \n",
    "             color=colors[idx], \n",
    "             linestyle=line_styles[idx], \n",
    "             marker=\"o\", \n",
    "             mfc=\"white\", \n",
    "             mec=colors[idx], \n",
    "             markersize=10, \n",
    "             linewidth=3, \n",
    "             markeredgewidth=3\n",
    "    )\n",
    "\n",
    "plt.legend(fontsize=12, loc=\"lower right\")\n",
    "plt.xlabel(\"norm threshold (%)\", fontsize=16)\n",
    "plt.ylabel(\"norm advers gap (%)\", fontsize=16)\n",
    "# plt.xscale('log')\n",
    "# plt.yticks(np.arange(0.25, 0.47, 0.03), fontsize=14)\n",
    "plt.yticks([0, 10, 20, 30, 40, 50], fontsize=14)\n",
    "plt.xticks([0, 2.5, 5, 7.5, 10, 12.5, 15], fontsize=14)\n",
    "plt.grid(which=\"major\", zorder=-1, linestyle=\"--\")\n",
    "plt.savefig(output_fig_dir + \"demandpinning_sweep_threshold.jpg\", bbox_inches=\"tight\", format=\"jpg\", dpi=300)\n",
    "plt.savefig(output_fig_dir + \"demandpinning_sweep_threshold.pdf\", bbox_inches=\"tight\", format=\"pdf\", dpi=300)"
   ]
  },
  {
   "cell_type": "code",
   "execution_count": null,
   "metadata": {},
   "outputs": [],
   "source": []
  }
 ],
 "metadata": {
  "kernelspec": {
   "display_name": "Python 3.10.5 64-bit",
   "language": "python",
   "name": "python3"
  },
  "language_info": {
   "codemirror_mode": {
    "name": "ipython",
    "version": 3
   },
   "file_extension": ".py",
   "mimetype": "text/x-python",
   "name": "python",
   "nbconvert_exporter": "python",
   "pygments_lexer": "ipython3",
   "version": "3.10.5"
  },
  "orig_nbformat": 4,
  "vscode": {
   "interpreter": {
    "hash": "fea7bd802f1645e206eb41f6d14f754f6e7846f6685548b2bc9d3b29e568ca0a"
   }
  }
 },
 "nbformat": 4,
 "nbformat_minor": 2
}
